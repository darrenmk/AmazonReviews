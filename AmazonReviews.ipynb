{
 "cells": [
  {
   "cell_type": "markdown",
   "metadata": {},
   "source": [
    "# **Part 1: Data pre-processing and exploration**"
   ]
  },
  {
   "cell_type": "code",
   "execution_count": 1,
   "metadata": {},
   "outputs": [],
   "source": [
    "import numpy as np\n",
    "import pandas as pd\n",
    "import matplotlib.pyplot as plt"
   ]
  },
  {
   "cell_type": "code",
   "execution_count": 2,
   "metadata": {},
   "outputs": [
    {
     "name": "stdout",
     "output_type": "stream",
     "text": [
      "Index(['text', 'star_rating', 'helpful', 'id'], dtype='object')\n",
      "(10716, 4)\n"
     ]
    }
   ],
   "source": [
    "df = pd.read_csv('./interview_dataset.csv')\n",
    "print(df.columns)\n",
    "print(df.shape)"
   ]
  },
  {
   "cell_type": "markdown",
   "metadata": {},
   "source": [
    "First let us find the distribution of rating scores to determine what star rating should be considered as having a positive sentiment versus a negative sentiment"
   ]
  },
  {
   "cell_type": "code",
   "execution_count": 3,
   "metadata": {},
   "outputs": [
    {
     "data": {
      "text/plain": [
       "<BarContainer object of 5 artists>"
      ]
     },
     "execution_count": 3,
     "metadata": {},
     "output_type": "execute_result"
    },
    {
     "data": {
      "image/png": "[encoded data removed]",
      "text/plain": [
       "<Figure size 432x288 with 1 Axes>"
      ]
     },
     "metadata": {
      "needs_background": "light"
     },
     "output_type": "display_data"
    }
   ],
   "source": [
    "stars = [sum(df[\"star_rating\"]==i) for i in range(1,6)]\n",
    "\n",
    "plt.bar([\"1\",\"2\",\"3\",\"4\",\"5\"], stars)"
   ]
  },
  {
   "cell_type": "markdown",
   "metadata": {},
   "source": [
    "As we can see, the review dataset is heavily skewed towards 5-star ratings. To save time and avoid having to adjust our calculations of precision, recall, and accuracy to account for skewness in the dataset, let us define the classifier to simply detect whether the review is 5-star or below. "
   ]
  },
  {
   "cell_type": "markdown",
   "metadata": {},
   "source": [
    "*Rating by product:*\n",
    "Next, let us verify whether the average review per product does not vary too significantly."
   ]
  },
  {
   "cell_type": "code",
   "execution_count": 4,
   "metadata": {},
   "outputs": [],
   "source": [
    "products = df[\"id\"].value_counts()\n",
    "\n",
    "productRating = []\n",
    "for p in products.index:\n",
    "    productStars = [sum((df[\"star_rating\"]==i) & (df[\"id\"]==p)) for i in range(1,6)]\n",
    "    numReviews = sum(df[\"id\"]==p)\n",
    "    productRating.append(np.divide(productStars, numReviews))"
   ]
  },
  {
   "cell_type": "code",
   "execution_count": 5,
   "metadata": {},
   "outputs": [
    {
     "name": "stdout",
     "output_type": "stream",
     "text": [
      "5 star ratings (%)\n",
      "Mean: 0.6378\n",
      "Standard Deviation: 0.1142\n"
     ]
    }
   ],
   "source": [
    "# Get percentage 5 star ratings per product\n",
    "fiveStars = [productRating[i][4] for i in range(len(products.index))] \n",
    "print(\"5 star ratings (%)\")\n",
    "print(\"Mean: \" + str(np.round(np.mean(fiveStars),4)))\n",
    "print(\"Standard Deviation: \" + str(np.round(np.std(fiveStars),4)))"
   ]
  },
  {
   "cell_type": "markdown",
   "metadata": {},
   "source": [
    "# **Part 2: Text Processing with Long Short-Term Memory in TensorFlow**"
   ]
  },
  {
   "cell_type": "markdown",
   "metadata": {},
   "source": [
    "Let us implement a simple LSTM network to process the Amazon Review data and predict whether the review will be a 5-star rating or below. I could likely reach higher accuracy, precision, and recall scores with an attention / transformer network but since the goal of this assignment is not to simply implement the latest technology, I will go with a simpler LSTM model."
   ]
  },
  {
   "cell_type": "code",
   "execution_count": 6,
   "metadata": {},
   "outputs": [
    {
     "name": "stdout",
     "output_type": "stream",
     "text": [
      "2.4.1\n"
     ]
    }
   ],
   "source": [
    "# pip install tensorflow <-- try this if module not available\n",
    "\n",
    "import os\n",
    "import re\n",
    "import string\n",
    "\n",
    "import tensorflow as tf\n",
    "from tensorflow.keras import regularizers\n",
    "from tensorflow.keras import layers\n",
    "from tensorflow.keras import losses\n",
    "from tensorflow.keras import preprocessing\n",
    "from tensorflow.keras.preprocessing.text import Tokenizer\n",
    "from tensorflow.keras.preprocessing.sequence import pad_sequences\n",
    "\n",
    "import sklearn\n",
    "from sklearn.model_selection import train_test_split\n",
    "from sklearn.metrics import classification_report\n",
    "\n",
    "print(tf.__version__)"
   ]
  },
  {
   "cell_type": "markdown",
   "metadata": {},
   "source": [
    "For better results, remove punctuation and capitalization"
   ]
  },
  {
   "cell_type": "code",
   "execution_count": 7,
   "metadata": {},
   "outputs": [],
   "source": [
    "def clean_text(r):\n",
    "    del_dict = {special_char: \"\" for special_char in string.punctuation}\n",
    "    del_dict[\" \"] = \" \"\n",
    "    table = str.maketrans(del_dict)\n",
    "    r1 = r.translate(table)\n",
    "    textArray = r1.split()\n",
    "    r2 = \" \".join([l for l in textArray if (not l.isdigit() and (not l.isdigit() and len(l) > 2))])\n",
    "    return r2.lower()"
   ]
  },
  {
   "cell_type": "code",
   "execution_count": 8,
   "metadata": {},
   "outputs": [
    {
     "name": "stdout",
     "output_type": "stream",
     "text": [
      "Text before cleaning: This item doesn’t have a lot number or expiration date. My face has broken out ever since using this. I didn’t put two and two together until I got a new one from my dermotologist. See photo. The one that is from my dermotologist has a lot # and expiration date.\n",
      "Text after cleaning: this item doesn’t have lot number expiration date face has broken out ever since using this didn’t put two and two together until got new one from dermotologist see photo the one that from dermotologist has lot and expiration date\n"
     ]
    }
   ],
   "source": [
    "textAsNP = df[\"text\"].to_numpy()\n",
    "text = [textAsNP[r] for r in range(len(textAsNP))]\n",
    "\n",
    "print(\"Text before cleaning: \" + str(text[0]))\n",
    "print(\"Text after cleaning: \" + str(clean_text(text[0])))"
   ]
  },
  {
   "cell_type": "code",
   "execution_count": 9,
   "metadata": {},
   "outputs": [
    {
     "data": {
      "text/plain": [
       "<AxesSubplot:>"
      ]
     },
     "execution_count": 9,
     "metadata": {},
     "output_type": "execute_result"
    },
    {
     "data": {
      "image/png": "[encoded data removed]",
      "text/plain": [
       "<Figure size 432x288 with 1 Axes>"
      ]
     },
     "metadata": {},
     "output_type": "display_data"
    }
   ],
   "source": [
    "import seaborn as sns\n",
    "\n",
    "numWords = [len(str(text[x]).split()) for x in range(len(text))]\n",
    "sns.set(style=\"whitegrid\")\n",
    "sns.boxplot(x=numWords)"
   ]
  },
  {
   "cell_type": "markdown",
   "metadata": {},
   "source": [
    "Since the vast majority of the reviews are less than 200 words, let us trim the dataset to only include relatively short reviews (200 words or less) to save on computational time."
   ]
  },
  {
   "cell_type": "code",
   "execution_count": 10,
   "metadata": {},
   "outputs": [
    {
     "data": {
      "text/plain": [
       "7223"
      ]
     },
     "execution_count": 10,
     "metadata": {},
     "output_type": "execute_result"
    }
   ],
   "source": [
    "trimmed = [(numWords[n] < 250) & (numWords[n] > 20) for n in range(len(numWords))]\n",
    "df_new = df[trimmed]\n",
    "len(df_new)"
   ]
  },
  {
   "cell_type": "code",
   "execution_count": 11,
   "metadata": {},
   "outputs": [],
   "source": [
    "def fivestar(rating):\n",
    "    if rating == 5:\n",
    "        return 1\n",
    "    else:\n",
    "        return 0"
   ]
  },
  {
   "cell_type": "code",
   "execution_count": 12,
   "metadata": {},
   "outputs": [],
   "source": [
    "textAsNP = df_new[\"text\"].to_numpy()\n",
    "textRaw = [textAsNP[r] for r in range(len(textAsNP))] \n",
    "X = [clean_text(textRaw[r]) for r in range(len(textAsNP[1:7000]))] # data\n",
    "X_test = [clean_text(textRaw[r+7000]) for r in range(len(textAsNP[7000:-1]))] # data\n",
    "\n",
    "ratingAsNP = df_new[\"star_rating\"].to_numpy()\n",
    "rating = [ratingAsNP[r] for r in range(len(ratingAsNP))]\n",
    "y = [fivestar(rating[r]) for r in range(len(rating[1:7000]))] # label\n",
    "y_test = [fivestar(rating[r+7000]) for r in range(len(rating[7000:-1]))] # label"
   ]
  },
  {
   "cell_type": "code",
   "execution_count": 13,
   "metadata": {},
   "outputs": [
    {
     "name": "stdout",
     "output_type": "stream",
     "text": [
      "Training set size: 6649 samples\n",
      "Validation set size: 350 samples\n",
      "Test set size: 222 samples\n"
     ]
    }
   ],
   "source": [
    "X_train, X_valid, y_train, y_valid = train_test_split(X, y, test_size=0.05, stratify=y, random_state=0)\n",
    "\n",
    "print(\"Training set size: \" + str(len(X_train)) + \" samples\")\n",
    "print(\"Validation set size: \" + str(len(X_valid)) + \" samples\")\n",
    "print(\"Test set size: \" + str(len(X_test)) + \" samples\")"
   ]
  },
  {
   "cell_type": "code",
   "execution_count": 14,
   "metadata": {},
   "outputs": [],
   "source": [
    "num_words = 50000\n",
    "\n",
    "tokenizer = Tokenizer(num_words = num_words, oov_token=\"unk\")\n",
    "tokenizer.fit_on_texts(X_train)"
   ]
  },
  {
   "cell_type": "code",
   "execution_count": 15,
   "metadata": {},
   "outputs": [
    {
     "name": "stdout",
     "output_type": "stream",
     "text": [
      "Train set size: 6649\n",
      "Label distribution: 1: 3879, 0: 2770\n",
      "Validation set size: 350\n",
      "Label distribution: 1: 204, 0: 146\n",
      "Test set size: 222\n",
      "Label distribution: 1: 135, 0: 87\n"
     ]
    },
    {
     "name": "stderr",
     "output_type": "stream",
     "text": [
      "<ipython-input-15-1e59048b270b>:1: VisibleDeprecationWarning: Creating an ndarray from ragged nested sequences (which is a list-or-tuple of lists-or-tuples-or ndarrays with different lengths or shapes) is deprecated. If you meant to do this, you must specify 'dtype=object' when creating the ndarray\n",
      "  x_train = np.array(tokenizer.texts_to_sequences(X_train))\n",
      "<ipython-input-15-1e59048b270b>:2: VisibleDeprecationWarning: Creating an ndarray from ragged nested sequences (which is a list-or-tuple of lists-or-tuples-or ndarrays with different lengths or shapes) is deprecated. If you meant to do this, you must specify 'dtype=object' when creating the ndarray\n",
      "  x_valid = np.array(tokenizer.texts_to_sequences(X_valid))\n",
      "<ipython-input-15-1e59048b270b>:3: VisibleDeprecationWarning: Creating an ndarray from ragged nested sequences (which is a list-or-tuple of lists-or-tuples-or ndarrays with different lengths or shapes) is deprecated. If you meant to do this, you must specify 'dtype=object' when creating the ndarray\n",
      "  x_test = np.array(tokenizer.texts_to_sequences(X_test))\n"
     ]
    }
   ],
   "source": [
    "x_train = np.array(tokenizer.texts_to_sequences(X_train))\n",
    "x_valid = np.array(tokenizer.texts_to_sequences(X_valid))\n",
    "x_test = np.array(tokenizer.texts_to_sequences(X_test))\n",
    "\n",
    "x_train = pad_sequences(x_train, padding='post', maxlen=250)\n",
    "x_valid = pad_sequences(x_valid, padding='post', maxlen=250)\n",
    "x_test = pad_sequences(x_test, padding='post', maxlen=250)\n",
    "\n",
    "train_labels = np.asarray(y_train)\n",
    "valid_labels = np.asarray(y_valid)\n",
    "test_labels = np.asarray(y_test)\n",
    "\n",
    "train_ds = tf.data.Dataset.from_tensor_slices((x_train,train_labels))\n",
    "valid_ds = tf.data.Dataset.from_tensor_slices((x_valid,valid_labels))\n",
    "test_ds = tf.data.Dataset.from_tensor_slices((x_test,test_labels))\n",
    "\n",
    "from collections import Counter\n",
    "print('Train set size: '+ str(len(x_train)))\n",
    "print('Label distribution: 1: '+ str(Counter(train_labels)[1]) + ', 0: ' + str(Counter(train_labels)[0]))\n",
    "\n",
    "print('Validation set size: '+ str(len(x_valid)))\n",
    "print('Label distribution: 1: '+ str(Counter(valid_labels)[1]) + ', 0: ' + str(Counter(valid_labels)[0]))\n",
    "\n",
    "print('Test set size: '+str(len(x_test)))\n",
    "print('Label distribution: 1: '+ str(Counter(test_labels)[1]) + ', 0: ' + str(Counter(test_labels)[0]))"
   ]
  },
  {
   "cell_type": "code",
   "execution_count": 18,
   "metadata": {},
   "outputs": [
    {
     "name": "stdout",
     "output_type": "stream",
     "text": [
      "Train dataset: First five examples\n",
      "tf.Tensor(\n",
      "[   4 1575   14  118  162    2  123    3  438   45   58  131   14  660\n",
      "    3  225   52  551  367 1576  442 4278   11  391   43   52  551  646\n",
      "   99  263   59 1914   41  392 4279    3 5063    0    0    0    0    0\n",
      "    0    0    0    0    0    0    0    0    0    0    0    0    0    0\n",
      "    0    0    0    0    0    0    0    0    0    0    0    0    0    0\n",
      "    0    0    0    0    0    0    0    0    0    0    0    0    0    0\n",
      "    0    0    0    0    0    0    0    0    0    0    0    0    0    0\n",
      "    0    0    0    0    0    0    0    0    0    0    0    0    0    0\n",
      "    0    0    0    0    0    0    0    0    0    0    0    0    0    0\n",
      "    0    0    0    0    0    0    0    0    0    0    0    0    0    0\n",
      "    0    0    0    0    0    0    0    0    0    0    0    0    0    0\n",
      "    0    0    0    0    0    0    0    0    0    0    0    0    0    0\n",
      "    0    0    0    0    0    0    0    0    0    0    0    0    0    0\n",
      "    0    0    0    0    0    0    0    0    0    0    0    0    0    0\n",
      "    0    0    0    0    0    0    0    0    0    0    0    0    0    0\n",
      "    0    0    0    0    0    0    0    0    0    0    0    0    0    0\n",
      "    0    0    0    0    0    0    0    0    0    0    0    0    0    0\n",
      "    0    0    0    0    0    0    0    0    0    0    0    0], shape=(250,), dtype=int32) tf.Tensor(1, shape=(), dtype=int32)\n",
      "tf.Tensor(\n",
      "[ 102   58  202    6  271  647 1488 1687 1489 1263    2    2   16   39\n",
      "  264  875    3   86   31  304   10   55   48  156    0    0    0    0\n",
      "    0    0    0    0    0    0    0    0    0    0    0    0    0    0\n",
      "    0    0    0    0    0    0    0    0    0    0    0    0    0    0\n",
      "    0    0    0    0    0    0    0    0    0    0    0    0    0    0\n",
      "    0    0    0    0    0    0    0    0    0    0    0    0    0    0\n",
      "    0    0    0    0    0    0    0    0    0    0    0    0    0    0\n",
      "    0    0    0    0    0    0    0    0    0    0    0    0    0    0\n",
      "    0    0    0    0    0    0    0    0    0    0    0    0    0    0\n",
      "    0    0    0    0    0    0    0    0    0    0    0    0    0    0\n",
      "    0    0    0    0    0    0    0    0    0    0    0    0    0    0\n",
      "    0    0    0    0    0    0    0    0    0    0    0    0    0    0\n",
      "    0    0    0    0    0    0    0    0    0    0    0    0    0    0\n",
      "    0    0    0    0    0    0    0    0    0    0    0    0    0    0\n",
      "    0    0    0    0    0    0    0    0    0    0    0    0    0    0\n",
      "    0    0    0    0    0    0    0    0    0    0    0    0    0    0\n",
      "    0    0    0    0    0    0    0    0    0    0    0    0    0    0\n",
      "    0    0    0    0    0    0    0    0    0    0    0    0], shape=(250,), dtype=int32) tf.Tensor(1, shape=(), dtype=int32)\n",
      "tf.Tensor(\n",
      "[  28    7 2518   69  412  331    8  109 1177 1005    3 6624    8  792\n",
      "    3  223    4   25  500 5064    3 1005  161    2 5065   23    3  334\n",
      "  596  100  401   75    4  169    3   47  566    4   65   10 6625  641\n",
      "  336  456   70  148  143 1148  559    3   71  530  600    8   29  181\n",
      " 3348  105    6  986  152  292    9  781   24   57    6  974  359  545\n",
      "   12 1367   60  187  328  178   21  250    3  359  545    4  169  610\n",
      "    3  359  545  114  501   57  610   31   10   59 1367  178   60   31\n",
      "  974  359  545    0    0    0    0    0    0    0    0    0    0    0\n",
      "    0    0    0    0    0    0    0    0    0    0    0    0    0    0\n",
      "    0    0    0    0    0    0    0    0    0    0    0    0    0    0\n",
      "    0    0    0    0    0    0    0    0    0    0    0    0    0    0\n",
      "    0    0    0    0    0    0    0    0    0    0    0    0    0    0\n",
      "    0    0    0    0    0    0    0    0    0    0    0    0    0    0\n",
      "    0    0    0    0    0    0    0    0    0    0    0    0    0    0\n",
      "    0    0    0    0    0    0    0    0    0    0    0    0    0    0\n",
      "    0    0    0    0    0    0    0    0    0    0    0    0    0    0\n",
      "    0    0    0    0    0    0    0    0    0    0    0    0    0    0\n",
      "    0    0    0    0    0    0    0    0    0    0    0    0], shape=(250,), dtype=int32) tf.Tensor(0, shape=(), dtype=int32)\n",
      "tf.Tensor(\n",
      "[   7  175  383   15    2    7   75  148  344    9    7  618   23   10\n",
      "    4   22   34   70    4 3349   53   11  393  260    2  114 1149  724\n",
      "   78  156   31   62  288    8  203  184  335   40  126   62   63   19\n",
      "  376  329   15    9 5066   82   67    9 1177  132 4280  751  116    2\n",
      "    4   22  149    0    0    0    0    0    0    0    0    0    0    0\n",
      "    0    0    0    0    0    0    0    0    0    0    0    0    0    0\n",
      "    0    0    0    0    0    0    0    0    0    0    0    0    0    0\n",
      "    0    0    0    0    0    0    0    0    0    0    0    0    0    0\n",
      "    0    0    0    0    0    0    0    0    0    0    0    0    0    0\n",
      "    0    0    0    0    0    0    0    0    0    0    0    0    0    0\n",
      "    0    0    0    0    0    0    0    0    0    0    0    0    0    0\n",
      "    0    0    0    0    0    0    0    0    0    0    0    0    0    0\n",
      "    0    0    0    0    0    0    0    0    0    0    0    0    0    0\n",
      "    0    0    0    0    0    0    0    0    0    0    0    0    0    0\n",
      "    0    0    0    0    0    0    0    0    0    0    0    0    0    0\n",
      "    0    0    0    0    0    0    0    0    0    0    0    0    0    0\n",
      "    0    0    0    0    0    0    0    0    0    0    0    0    0    0\n",
      "    0    0    0    0    0    0    0    0    0    0    0    0], shape=(250,), dtype=int32) tf.Tensor(1, shape=(), dtype=int32)\n",
      "tf.Tensor(\n",
      "[   4   12   51   25    6    3  427   86    3 1688  698   11   25  570\n",
      "    2   83  611 1577   11  413    9  311   29 2664  793  105   19  392\n",
      "   37  418  259   11  774 4281  150    7  828   62  233    8    7   66\n",
      "  377    9  104    4  144    3  147 4282  334   12  154  819    0    0\n",
      "    0    0    0    0    0    0    0    0    0    0    0    0    0    0\n",
      "    0    0    0    0    0    0    0    0    0    0    0    0    0    0\n",
      "    0    0    0    0    0    0    0    0    0    0    0    0    0    0\n",
      "    0    0    0    0    0    0    0    0    0    0    0    0    0    0\n",
      "    0    0    0    0    0    0    0    0    0    0    0    0    0    0\n",
      "    0    0    0    0    0    0    0    0    0    0    0    0    0    0\n",
      "    0    0    0    0    0    0    0    0    0    0    0    0    0    0\n",
      "    0    0    0    0    0    0    0    0    0    0    0    0    0    0\n",
      "    0    0    0    0    0    0    0    0    0    0    0    0    0    0\n",
      "    0    0    0    0    0    0    0    0    0    0    0    0    0    0\n",
      "    0    0    0    0    0    0    0    0    0    0    0    0    0    0\n",
      "    0    0    0    0    0    0    0    0    0    0    0    0    0    0\n",
      "    0    0    0    0    0    0    0    0    0    0    0    0    0    0\n",
      "    0    0    0    0    0    0    0    0    0    0    0    0], shape=(250,), dtype=int32) tf.Tensor(0, shape=(), dtype=int32)\n",
      "Validation dataset: First five examples\n",
      "tf.Tensor(\n",
      "[ 470    5    2  170  145   68   69   40 1398    3  636   23   78    5\n",
      "   12 3881   17 3259    2   29   78    5  926   23  944    7 1008  533\n",
      "    5    6   69   37    2  243   58    8    4   37 1404 1251   23    1\n",
      "    9 3110    1    1    3    1  171    6   90  996  930 6040    9  150\n",
      "  525 2215   69 2493  803 1277    6  151  109   28  604    2    5  146\n",
      "    2  118   17   31   55   85  675   31  103  626  145  296    3  289\n",
      "    8   55   85   60   81 2559    3  927  294 2210    6 1352  272    5\n",
      "   44   77  360    3  355  143    3   61  185 5431  419  360    9    2\n",
      " 3446  289   36   82   59   85   12 1068   12  158    7  239   50  460\n",
      "    5    8  401 4966    9  910    2  252    2  217 2687    5  233  926\n",
      "   23    2   31   10 3881  788  775    4  173 1277 1395   36  360   48\n",
      "  151  797    2   78   32  780 1150    5  694    4  173    6 6552   10\n",
      " 1150  387  249   11    4   14  817  133    0    0    0    0    0    0\n",
      "    0    0    0    0    0    0    0    0    0    0    0    0    0    0\n",
      "    0    0    0    0    0    0    0    0    0    0    0    0    0    0\n",
      "    0    0    0    0    0    0    0    0    0    0    0    0    0    0\n",
      "    0    0    0    0    0    0    0    0    0    0    0    0    0    0\n",
      "    0    0    0    0    0    0    0    0    0    0    0    0], shape=(250,), dtype=int32) tf.Tensor(1, shape=(), dtype=int32)\n",
      "tf.Tensor(\n",
      "[1104   26    4  117   81  485  631    5  572    5  126    4   43   84\n",
      " 1552   48  139   26  186   14  127    6  440   83  485  192    5   11\n",
      "  151  477   83    3  326   91  770    3  326  279   23  152    5  422\n",
      "  387  162    7   56  655    5    6  168  242   67  113  168  354  280\n",
      "   30  822 1543   29  395  490    5   16  150  865    3  320   41  655\n",
      "  148  143  160    5   10  272   24  257    3 1543 1827 6611  497   36\n",
      "   21  184    4   14  196   46   56   32    6    5    0    0    0    0\n",
      "    0    0    0    0    0    0    0    0    0    0    0    0    0    0\n",
      "    0    0    0    0    0    0    0    0    0    0    0    0    0    0\n",
      "    0    0    0    0    0    0    0    0    0    0    0    0    0    0\n",
      "    0    0    0    0    0    0    0    0    0    0    0    0    0    0\n",
      "    0    0    0    0    0    0    0    0    0    0    0    0    0    0\n",
      "    0    0    0    0    0    0    0    0    0    0    0    0    0    0\n",
      "    0    0    0    0    0    0    0    0    0    0    0    0    0    0\n",
      "    0    0    0    0    0    0    0    0    0    0    0    0    0    0\n",
      "    0    0    0    0    0    0    0    0    0    0    0    0    0    0\n",
      "    0    0    0    0    0    0    0    0    0    0    0    0    0    0\n",
      "    0    0    0    0    0    0    0    0    0    0    0    0], shape=(250,), dtype=int32) tf.Tensor(1, shape=(), dtype=int32)\n",
      "tf.Tensor(\n",
      "[   7   34  588 9155   11    4  165    4    3 2088   37   72 3130    3\n",
      "  228  925    4   37 3130   43  595    5  116    2  177   42    1  135\n",
      "  419   76    4  392    2 2657  902   36  187  100 2358   27    5   76\n",
      "  122   16   13   51  191 1765  680    2  317    1    5   40  280   13\n",
      "  333    5 1943 1570    7  217    4  290 1024    6 1319   35    5   36\n",
      "   89   95   13  333    5    8  244    6    1    2 1313  692   41  314\n",
      " 1677    6  254  313    0    0    0    0    0    0    0    0    0    0\n",
      "    0    0    0    0    0    0    0    0    0    0    0    0    0    0\n",
      "    0    0    0    0    0    0    0    0    0    0    0    0    0    0\n",
      "    0    0    0    0    0    0    0    0    0    0    0    0    0    0\n",
      "    0    0    0    0    0    0    0    0    0    0    0    0    0    0\n",
      "    0    0    0    0    0    0    0    0    0    0    0    0    0    0\n",
      "    0    0    0    0    0    0    0    0    0    0    0    0    0    0\n",
      "    0    0    0    0    0    0    0    0    0    0    0    0    0    0\n",
      "    0    0    0    0    0    0    0    0    0    0    0    0    0    0\n",
      "    0    0    0    0    0    0    0    0    0    0    0    0    0    0\n",
      "    0    0    0    0    0    0    0    0    0    0    0    0    0    0\n",
      "    0    0    0    0    0    0    0    0    0    0    0    0], shape=(250,), dtype=int32) tf.Tensor(0, shape=(), dtype=int32)\n",
      "tf.Tensor(\n",
      "[  72  132   28    3  275  676    8   11    1 1026 2595  215   26    4\n",
      "   20 1715   16   91   80   27  310   61    8  231   27  378   20  479\n",
      "  160  521  615  479   16  135   80   61  111   40   26   19  835   36\n",
      "  279  127   27  378   20  479    2  216    0    0    0    0    0    0\n",
      "    0    0    0    0    0    0    0    0    0    0    0    0    0    0\n",
      "    0    0    0    0    0    0    0    0    0    0    0    0    0    0\n",
      "    0    0    0    0    0    0    0    0    0    0    0    0    0    0\n",
      "    0    0    0    0    0    0    0    0    0    0    0    0    0    0\n",
      "    0    0    0    0    0    0    0    0    0    0    0    0    0    0\n",
      "    0    0    0    0    0    0    0    0    0    0    0    0    0    0\n",
      "    0    0    0    0    0    0    0    0    0    0    0    0    0    0\n",
      "    0    0    0    0    0    0    0    0    0    0    0    0    0    0\n",
      "    0    0    0    0    0    0    0    0    0    0    0    0    0    0\n",
      "    0    0    0    0    0    0    0    0    0    0    0    0    0    0\n",
      "    0    0    0    0    0    0    0    0    0    0    0    0    0    0\n",
      "    0    0    0    0    0    0    0    0    0    0    0    0    0    0\n",
      "    0    0    0    0    0    0    0    0    0    0    0    0    0    0\n",
      "    0    0    0    0    0    0    0    0    0    0    0    0], shape=(250,), dtype=int32) tf.Tensor(1, shape=(), dtype=int32)\n",
      "tf.Tensor(\n",
      "[  51   14    8   46 2658  921    3  260  329 1239 2311  686  678    4\n",
      "  871    0    0    0    0    0    0    0    0    0    0    0    0    0\n",
      "    0    0    0    0    0    0    0    0    0    0    0    0    0    0\n",
      "    0    0    0    0    0    0    0    0    0    0    0    0    0    0\n",
      "    0    0    0    0    0    0    0    0    0    0    0    0    0    0\n",
      "    0    0    0    0    0    0    0    0    0    0    0    0    0    0\n",
      "    0    0    0    0    0    0    0    0    0    0    0    0    0    0\n",
      "    0    0    0    0    0    0    0    0    0    0    0    0    0    0\n",
      "    0    0    0    0    0    0    0    0    0    0    0    0    0    0\n",
      "    0    0    0    0    0    0    0    0    0    0    0    0    0    0\n",
      "    0    0    0    0    0    0    0    0    0    0    0    0    0    0\n",
      "    0    0    0    0    0    0    0    0    0    0    0    0    0    0\n",
      "    0    0    0    0    0    0    0    0    0    0    0    0    0    0\n",
      "    0    0    0    0    0    0    0    0    0    0    0    0    0    0\n",
      "    0    0    0    0    0    0    0    0    0    0    0    0    0    0\n",
      "    0    0    0    0    0    0    0    0    0    0    0    0    0    0\n",
      "    0    0    0    0    0    0    0    0    0    0    0    0    0    0\n",
      "    0    0    0    0    0    0    0    0    0    0    0    0], shape=(250,), dtype=int32) tf.Tensor(0, shape=(), dtype=int32)\n",
      "Test dataset: First five examples\n",
      "tf.Tensor(\n",
      "[ 101  707   37   43   45   47  910  316  245    8  163    9   55  295\n",
      "   39  150  245  119  175   48   43    7   68   55    2   45 1164  160\n",
      "   40   13    4    3  399  245    3 2453    0    0    0    0    0    0\n",
      "    0    0    0    0    0    0    0    0    0    0    0    0    0    0\n",
      "    0    0    0    0    0    0    0    0    0    0    0    0    0    0\n",
      "    0    0    0    0    0    0    0    0    0    0    0    0    0    0\n",
      "    0    0    0    0    0    0    0    0    0    0    0    0    0    0\n",
      "    0    0    0    0    0    0    0    0    0    0    0    0    0    0\n",
      "    0    0    0    0    0    0    0    0    0    0    0    0    0    0\n",
      "    0    0    0    0    0    0    0    0    0    0    0    0    0    0\n",
      "    0    0    0    0    0    0    0    0    0    0    0    0    0    0\n",
      "    0    0    0    0    0    0    0    0    0    0    0    0    0    0\n",
      "    0    0    0    0    0    0    0    0    0    0    0    0    0    0\n",
      "    0    0    0    0    0    0    0    0    0    0    0    0    0    0\n",
      "    0    0    0    0    0    0    0    0    0    0    0    0    0    0\n",
      "    0    0    0    0    0    0    0    0    0    0    0    0    0    0\n",
      "    0    0    0    0    0    0    0    0    0    0    0    0    0    0\n",
      "    0    0    0    0    0    0    0    0    0    0    0    0], shape=(250,), dtype=int32) tf.Tensor(0, shape=(), dtype=int32)\n",
      "tf.Tensor(\n",
      "[ 101    4    6 1372  175    2   31  115   65  128  120 1144 1109    2\n",
      "   78  309   15  764   62  929  593  309  113   66   71  564  524    1\n",
      "  606 3530   47  243  113   66   71    6   71    0    0    0    0    0\n",
      "    0    0    0    0    0    0    0    0    0    0    0    0    0    0\n",
      "    0    0    0    0    0    0    0    0    0    0    0    0    0    0\n",
      "    0    0    0    0    0    0    0    0    0    0    0    0    0    0\n",
      "    0    0    0    0    0    0    0    0    0    0    0    0    0    0\n",
      "    0    0    0    0    0    0    0    0    0    0    0    0    0    0\n",
      "    0    0    0    0    0    0    0    0    0    0    0    0    0    0\n",
      "    0    0    0    0    0    0    0    0    0    0    0    0    0    0\n",
      "    0    0    0    0    0    0    0    0    0    0    0    0    0    0\n",
      "    0    0    0    0    0    0    0    0    0    0    0    0    0    0\n",
      "    0    0    0    0    0    0    0    0    0    0    0    0    0    0\n",
      "    0    0    0    0    0    0    0    0    0    0    0    0    0    0\n",
      "    0    0    0    0    0    0    0    0    0    0    0    0    0    0\n",
      "    0    0    0    0    0    0    0    0    0    0    0    0    0    0\n",
      "    0    0    0    0    0    0    0    0    0    0    0    0    0    0\n",
      "    0    0    0    0    0    0    0    0    0    0    0    0], shape=(250,), dtype=int32) tf.Tensor(0, shape=(), dtype=int32)\n",
      "tf.Tensor(\n",
      "[  51 2805  175    8  150   35   23   27   15   11 4244   13   42  156\n",
      "   13  166  263   13  227   51   18  939   17  522   83  119   26    4\n",
      "   13    3    4  113   66   71  224   17    9    3 1750 1572  373   92\n",
      "  389    3  180  557    2   57  245  305    3  175    4   12    3   47\n",
      "  165    9  500 1624 4506  175    0    0    0    0    0    0    0    0\n",
      "    0    0    0    0    0    0    0    0    0    0    0    0    0    0\n",
      "    0    0    0    0    0    0    0    0    0    0    0    0    0    0\n",
      "    0    0    0    0    0    0    0    0    0    0    0    0    0    0\n",
      "    0    0    0    0    0    0    0    0    0    0    0    0    0    0\n",
      "    0    0    0    0    0    0    0    0    0    0    0    0    0    0\n",
      "    0    0    0    0    0    0    0    0    0    0    0    0    0    0\n",
      "    0    0    0    0    0    0    0    0    0    0    0    0    0    0\n",
      "    0    0    0    0    0    0    0    0    0    0    0    0    0    0\n",
      "    0    0    0    0    0    0    0    0    0    0    0    0    0    0\n",
      "    0    0    0    0    0    0    0    0    0    0    0    0    0    0\n",
      "    0    0    0    0    0    0    0    0    0    0    0    0    0    0\n",
      "    0    0    0    0    0    0    0    0    0    0    0    0    0    0\n",
      "    0    0    0    0    0    0    0    0    0    0    0    0], shape=(250,), dtype=int32) tf.Tensor(1, shape=(), dtype=int32)\n",
      "tf.Tensor(\n",
      "[ 765 2517   15   20   97   20  853   40  280  251   18 1334  538   29\n",
      "  189  263   23    2  273   12  508  356  348    4   18  192    2  567\n",
      "  143   26   46 1624   15 1739  932   48  249  938    0    0    0    0\n",
      "    0    0    0    0    0    0    0    0    0    0    0    0    0    0\n",
      "    0    0    0    0    0    0    0    0    0    0    0    0    0    0\n",
      "    0    0    0    0    0    0    0    0    0    0    0    0    0    0\n",
      "    0    0    0    0    0    0    0    0    0    0    0    0    0    0\n",
      "    0    0    0    0    0    0    0    0    0    0    0    0    0    0\n",
      "    0    0    0    0    0    0    0    0    0    0    0    0    0    0\n",
      "    0    0    0    0    0    0    0    0    0    0    0    0    0    0\n",
      "    0    0    0    0    0    0    0    0    0    0    0    0    0    0\n",
      "    0    0    0    0    0    0    0    0    0    0    0    0    0    0\n",
      "    0    0    0    0    0    0    0    0    0    0    0    0    0    0\n",
      "    0    0    0    0    0    0    0    0    0    0    0    0    0    0\n",
      "    0    0    0    0    0    0    0    0    0    0    0    0    0    0\n",
      "    0    0    0    0    0    0    0    0    0    0    0    0    0    0\n",
      "    0    0    0    0    0    0    0    0    0    0    0    0    0    0\n",
      "    0    0    0    0    0    0    0    0    0    0    0    0], shape=(250,), dtype=int32) tf.Tensor(1, shape=(), dtype=int32)\n",
      "tf.Tensor(\n",
      "[    4    10     6    97    15     6   175     4   508   879    58    12\n",
      "  1021  1147    48   205     6  3690     8   401    75     4    61    36\n",
      "   636  2159     2     1   319    13   481     3   399   928    90 11351\n",
      "  3797   110    62   993   180    15     8    13   125    41   216   305\n",
      "   245     2   102   943    42    77   171     6   224  1899     6    97\n",
      "    15    16     7   711    11    66    18  1334   652     4   173   102\n",
      "    32     0     0     0     0     0     0     0     0     0     0     0\n",
      "     0     0     0     0     0     0     0     0     0     0     0     0\n",
      "     0     0     0     0     0     0     0     0     0     0     0     0\n",
      "     0     0     0     0     0     0     0     0     0     0     0     0\n",
      "     0     0     0     0     0     0     0     0     0     0     0     0\n",
      "     0     0     0     0     0     0     0     0     0     0     0     0\n",
      "     0     0     0     0     0     0     0     0     0     0     0     0\n",
      "     0     0     0     0     0     0     0     0     0     0     0     0\n",
      "     0     0     0     0     0     0     0     0     0     0     0     0\n",
      "     0     0     0     0     0     0     0     0     0     0     0     0\n",
      "     0     0     0     0     0     0     0     0     0     0     0     0\n",
      "     0     0     0     0     0     0     0     0     0     0     0     0\n",
      "     0     0     0     0     0     0     0     0     0     0     0     0\n",
      "     0     0     0     0     0     0     0     0     0     0     0     0\n",
      "     0     0     0     0     0     0     0     0     0     0], shape=(250,), dtype=int32) tf.Tensor(1, shape=(), dtype=int32)\n"
     ]
    }
   ],
   "source": [
    "i = 0\n",
    "print('Train dataset: First five examples')\n",
    "for v, l in train_ds:\n",
    "    i += 1\n",
    "    print(v, l)\n",
    "    if i == 5:\n",
    "        break\n",
    "i = 0\n",
    "print('Validation dataset: First five examples')\n",
    "for v, l in valid_ds:\n",
    "    i += 1\n",
    "    print(v, l)\n",
    "    if i == 5:\n",
    "        break\n",
    "i = 0\n",
    "print('Test dataset: First five examples')\n",
    "for v, l in test_ds:\n",
    "    i += 1\n",
    "    print(v, l)\n",
    "    if i == 5:\n",
    "        break"
   ]
  },
  {
   "cell_type": "markdown",
   "metadata": {},
   "source": [
    "Now that the datasets are created, let's build the Long Short-Term Memory (LSTM) model with keras. LSTM is a network with a recurrent neural network architecture. It is best suited for processing long sequences of data, and is especially useful when there are dependencies between information that is spaced out in the sequence. For example, if I were to feed the LSTM network the sequence: \"It is not true that I like this product.\", the LSTM model would likely store the word \"not\", because this negates the later part \"I like this product\" and makes the overall sentiment negative."
   ]
  },
  {
   "cell_type": "code",
   "execution_count": 19,
   "metadata": {},
   "outputs": [
    {
     "name": "stdout",
     "output_type": "stream",
     "text": [
      "Model: \"sequential\"\n",
      "_________________________________________________________________\n",
      "Layer (type)                 Output Shape              Param #   \n",
      "=================================================================\n",
      "embedding (Embedding)        (None, 250, 16)           800016    \n",
      "_________________________________________________________________\n",
      "dropout (Dropout)            (None, 250, 16)           0         \n",
      "_________________________________________________________________\n",
      "lstm (LSTM)                  (None, 250, 16)           2112      \n",
      "_________________________________________________________________\n",
      "flatten (Flatten)            (None, 4000)              0         \n",
      "_________________________________________________________________\n",
      "dense (Dense)                (None, 512)               2048512   \n",
      "_________________________________________________________________\n",
      "dropout_1 (Dropout)          (None, 512)               0         \n",
      "_________________________________________________________________\n",
      "dense_1 (Dense)              (None, 8)                 4104      \n",
      "_________________________________________________________________\n",
      "dropout_2 (Dropout)          (None, 8)                 0         \n",
      "_________________________________________________________________\n",
      "dense_2 (Dense)              (None, 1)                 9         \n",
      "=================================================================\n",
      "Total params: 2,854,753\n",
      "Trainable params: 2,854,753\n",
      "Non-trainable params: 0\n",
      "_________________________________________________________________\n"
     ]
    }
   ],
   "source": [
    "max_features = num_words\n",
    "embedding_dim = 16\n",
    "\n",
    "model = tf.keras.Sequential()\n",
    "model.add(tf.keras.layers.Embedding(max_features+1, embedding_dim, input_length=250, embeddings_regularizer = regularizers.l2(0.005)))\n",
    "model.add(tf.keras.layers.Dropout(0.4))\n",
    "model.add(tf.keras.layers.LSTM(embedding_dim, dropout=0.2, recurrent_dropout=0.2, return_sequences=True, kernel_regularizer = regularizers.l2(0.005), bias_regularizer = regularizers.l2(0.005)))\n",
    "model.add(tf.keras.layers.Flatten())\n",
    "model.add(tf.keras.layers.Dense(512, activation = \"relu\", kernel_regularizer = regularizers.l2(0.001), bias_regularizer = regularizers.l2(0.001),))\n",
    "model.add(tf.keras.layers.Dropout(0.4))\n",
    "model.add(tf.keras.layers.Dense(8, activation = \"relu\", kernel_regularizer = regularizers.l2(0.001), bias_regularizer = regularizers.l2(0.001),))\n",
    "model.add(tf.keras.layers.Dropout(0.4))\n",
    "model.add(tf.keras.layers.Dense(1, activation = 'sigmoid'))\n",
    "\n",
    "model.summary()\n",
    "model.compile(loss=tf.keras.losses.BinaryCrossentropy(), optimizer=tf.keras.optimizers.Adam(1e-3),metrics=[tf.keras.metrics.BinaryAccuracy()])\n"
   ]
  },
  {
   "cell_type": "code",
   "execution_count": 20,
   "metadata": {},
   "outputs": [
    {
     "name": "stdout",
     "output_type": "stream",
     "text": [
      "Epoch 1/15\n",
      "14/14 [==============================] - 8s 346ms/step - loss: 4.3815 - binary_accuracy: 0.5735 - val_loss: 2.4597 - val_binary_accuracy: 0.5829\n",
      "Epoch 2/15\n",
      "14/14 [==============================] - 4s 308ms/step - loss: 2.1042 - binary_accuracy: 0.5878 - val_loss: 1.3127 - val_binary_accuracy: 0.5829\n",
      "Epoch 3/15\n",
      "14/14 [==============================] - 4s 311ms/step - loss: 1.1900 - binary_accuracy: 0.5882 - val_loss: 0.9389 - val_binary_accuracy: 0.5829\n",
      "Epoch 4/15\n",
      "14/14 [==============================] - 4s 313ms/step - loss: 0.9042 - binary_accuracy: 0.5834 - val_loss: 0.8127 - val_binary_accuracy: 0.5829\n",
      "Epoch 5/15\n",
      "14/14 [==============================] - 4s 317ms/step - loss: 0.7881 - binary_accuracy: 0.5892 - val_loss: 0.7430 - val_binary_accuracy: 0.5829\n",
      "Epoch 6/15\n",
      "14/14 [==============================] - 4s 318ms/step - loss: 0.7257 - binary_accuracy: 0.6473 - val_loss: 0.7054 - val_binary_accuracy: 0.7771\n",
      "Epoch 7/15\n",
      "14/14 [==============================] - 5s 330ms/step - loss: 0.6551 - binary_accuracy: 0.7984 - val_loss: 0.6384 - val_binary_accuracy: 0.8086\n",
      "Epoch 8/15\n",
      "14/14 [==============================] - 5s 346ms/step - loss: 0.6178 - binary_accuracy: 0.8276 - val_loss: 0.6284 - val_binary_accuracy: 0.8114\n",
      "Epoch 9/15\n",
      "14/14 [==============================] - 5s 356ms/step - loss: 0.5710 - binary_accuracy: 0.8586 - val_loss: 0.6116 - val_binary_accuracy: 0.8200\n",
      "Epoch 10/15\n",
      "14/14 [==============================] - 5s 375ms/step - loss: 0.5585 - binary_accuracy: 0.8664 - val_loss: 0.5783 - val_binary_accuracy: 0.8257\n",
      "Epoch 11/15\n",
      "14/14 [==============================] - 5s 357ms/step - loss: 0.5444 - binary_accuracy: 0.8790 - val_loss: 0.6771 - val_binary_accuracy: 0.7800\n",
      "Epoch 12/15\n",
      "14/14 [==============================] - 5s 351ms/step - loss: 0.5795 - binary_accuracy: 0.8579 - val_loss: 0.6522 - val_binary_accuracy: 0.8057\n",
      "Epoch 13/15\n",
      "14/14 [==============================] - 5s 344ms/step - loss: 0.5371 - binary_accuracy: 0.8838 - val_loss: 0.6253 - val_binary_accuracy: 0.8229\n",
      "Epoch 14/15\n",
      "14/14 [==============================] - 5s 333ms/step - loss: 0.5196 - binary_accuracy: 0.8948 - val_loss: 0.6121 - val_binary_accuracy: 0.7943\n",
      "Epoch 15/15\n",
      "14/14 [==============================] - 6s 403ms/step - loss: 0.4908 - binary_accuracy: 0.9005 - val_loss: 0.6013 - val_binary_accuracy: 0.7971\n"
     ]
    }
   ],
   "source": [
    "## Only run this when training the model!\n",
    "\n",
    "# history = model.fit(train_ds.shuffle(1000).batch(500), epochs=15, validation_data=valid_ds.batch(500), verbose=1)"
   ]
  },
  {
   "cell_type": "code",
   "execution_count": 28,
   "metadata": {},
   "outputs": [
    {
     "data": {
      "image/png": "[encoded data removed]",
      "text/plain": [
       "<Figure size 432x288 with 1 Axes>"
      ]
     },
     "metadata": {},
     "output_type": "display_data"
    }
   ],
   "source": [
    "plt.plot(history.history['loss'], label = 'Training dataset')\n",
    "plt.plot(history.history['val_loss'], label = 'Validation dataset')\n",
    "plt.title('Loss for Review Classification')\n",
    "plt.ylabel('Loss')\n",
    "plt.xlabel('Epoch number')\n",
    "plt.legend(loc=\"upper right\")\n",
    "plt.show()"
   ]
  },
  {
   "cell_type": "code",
   "execution_count": 29,
   "metadata": {},
   "outputs": [
    {
     "data": {
      "image/png": "[encoded data removed]",
      "text/plain": [
       "<Figure size 432x288 with 1 Axes>"
      ]
     },
     "metadata": {},
     "output_type": "display_data"
    }
   ],
   "source": [
    "plt.plot(history.history['binary_accuracy'], label=' Training dataset')\n",
    "plt.plot(history.history['val_binary_accuracy'], label='Validation dataset')\n",
    "plt.title('Accuracy for Review Classification')\n",
    "plt.ylabel('Accuracy (%)')\n",
    "plt.xlabel('Epoch number')\n",
    "plt.legend(loc=\"upper left\")\n",
    "plt.show()"
   ]
  },
  {
   "cell_type": "code",
   "execution_count": 30,
   "metadata": {},
   "outputs": [],
   "source": [
    "valid_predict = model.predict(x_valid)\n",
    "#print(valid_predict[:])"
   ]
  },
  {
   "cell_type": "code",
   "execution_count": 25,
   "metadata": {},
   "outputs": [],
   "source": [
    "## Save model\n",
    "model.save('.\\\\LSTM_model.h5') \n",
    "json_string = tokenizer.to_json()\n",
    "\n",
    "import json\n",
    "with open('.\\\\tokenizer.json', 'w') as ofile:\n",
    "    json.dump(json_string, ofile)"
   ]
  },
  {
   "cell_type": "code",
   "execution_count": 26,
   "metadata": {},
   "outputs": [
    {
     "name": "stdout",
     "output_type": "stream",
     "text": [
      "Model: \"sequential\"\n",
      "_________________________________________________________________\n",
      "Layer (type)                 Output Shape              Param #   \n",
      "=================================================================\n",
      "embedding (Embedding)        (None, 250, 16)           800016    \n",
      "_________________________________________________________________\n",
      "dropout (Dropout)            (None, 250, 16)           0         \n",
      "_________________________________________________________________\n",
      "lstm (LSTM)                  (None, 250, 16)           2112      \n",
      "_________________________________________________________________\n",
      "flatten (Flatten)            (None, 4000)              0         \n",
      "_________________________________________________________________\n",
      "dense (Dense)                (None, 512)               2048512   \n",
      "_________________________________________________________________\n",
      "dropout_1 (Dropout)          (None, 512)               0         \n",
      "_________________________________________________________________\n",
      "dense_1 (Dense)              (None, 8)                 4104      \n",
      "_________________________________________________________________\n",
      "dropout_2 (Dropout)          (None, 8)                 0         \n",
      "_________________________________________________________________\n",
      "dense_2 (Dense)              (None, 1)                 9         \n",
      "=================================================================\n",
      "Total params: 2,854,753\n",
      "Trainable params: 2,854,753\n",
      "Non-trainable params: 0\n",
      "_________________________________________________________________\n"
     ]
    }
   ],
   "source": [
    "## Load model\n",
    "new_model = tf.keras.models.load_model('.\\\\LSTM_model.h5')\n",
    "new_model.summary()\n",
    "\n",
    "with open('.\\\\tokenizer.json') as json_file:\n",
    "    json_string = json.load(json_file)\n",
    "tokenizer1 = tf.keras.preprocessing.text.tokenizer_from_json(json_string)"
   ]
  },
  {
   "cell_type": "markdown",
   "metadata": {},
   "source": [
    "## Part 3: Results"
   ]
  },
  {
   "cell_type": "markdown",
   "metadata": {},
   "source": [
    "As you can see, overall accuracy of the LSTM model was approximately 75%, which is obviously far from ideal for a simple sentiment classification problem. With some additional time I would have been able to further increase the accuracy through hyperparameter tuning and tweaking. However, I hope this served as a good overview to my problem-solving approach and data exploration process."
   ]
  },
  {
   "cell_type": "code",
   "execution_count": 27,
   "metadata": {},
   "outputs": [
    {
     "name": "stdout",
     "output_type": "stream",
     "text": [
      "              precision    recall  f1-score   support\n",
      "\n",
      "           0       0.65      0.76      0.70        87\n",
      "           1       0.82      0.73      0.78       135\n",
      "\n",
      "    accuracy                           0.74       222\n",
      "   macro avg       0.74      0.75      0.74       222\n",
      "weighted avg       0.76      0.74      0.75       222\n",
      "\n"
     ]
    }
   ],
   "source": [
    "## test on testing dataset\n",
    "predictions = new_model.predict(x_test)\n",
    "predictions[predictions >= 0.56] = 1\n",
    "predictions[predictions < 0.56] = 0\n",
    "\n",
    "print(classification_report(test_labels,predictions,labels=[0,1]))"
   ]
  }
 ],
 "metadata": {
  "kernelspec": {
   "display_name": "Python 3",
   "language": "python",
   "name": "python3"
  },
  "language_info": {
   "codemirror_mode": {
    "name": "ipython",
    "version": 3
   },
   "file_extension": ".py",
   "mimetype": "text/x-python",
   "name": "python",
   "nbconvert_exporter": "python",
   "pygments_lexer": "ipython3",
   "version": "3.8.5"
  }
 },
 "nbformat": 4,
 "nbformat_minor": 4
}
